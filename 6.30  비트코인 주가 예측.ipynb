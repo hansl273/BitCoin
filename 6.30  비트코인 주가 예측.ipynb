{
 "cells": [
  {
   "cell_type": "code",
   "execution_count": 1,
   "id": "8c6e8ff7",
   "metadata": {},
   "outputs": [],
   "source": [
    "import requests\n",
    "import pandas as pd\n",
    "import matplotlib.pyplot as plt\n",
    "import seaborn as sns\n",
    "from sklearn.preprocessing import MinMaxScaler\n",
    "from sklearn.model_selection import train_test_split\n",
    "# import tensorflow as tf\n",
    "from tensorflow.keras.models import Sequential\n",
    "from tensorflow.keras.layers import Dense, LSTM, Conv1D, Lambda\n",
    "from tensorflow.keras.losses import Huber\n",
    "from tensorflow.keras.optimizers import Adam\n",
    "from tensorflow.keras.callbacks import EarlyStopping, ModelCheckpoint\n",
    "import os\n",
    "import datetime\n",
    "import numpy as np"
   ]
  },
  {
   "cell_type": "markdown",
   "id": "7115c1f2",
   "metadata": {},
   "source": [
    "!pip install tensorflow"
   ]
  },
  {
   "cell_type": "markdown",
   "id": "d7ac755f",
   "metadata": {},
   "source": [
    "!pip install pyupbit"
   ]
  },
  {
   "cell_type": "markdown",
   "id": "b5384cab",
   "metadata": {},
   "source": [
    "!pip install pykrx"
   ]
  },
  {
   "cell_type": "markdown",
   "id": "930813cc",
   "metadata": {},
   "source": [
    "Step 1 탐색: 시간정보가 포함된 데이터 살펴보기\n",
    "    https://www.investing.com/crypto/bitcoin/historical-data"
   ]
  },
  {
   "cell_type": "code",
   "execution_count": 2,
   "id": "de6cdd2b",
   "metadata": {},
   "outputs": [
    {
     "data": {
      "text/html": [
       "<div>\n",
       "<style scoped>\n",
       "    .dataframe tbody tr th:only-of-type {\n",
       "        vertical-align: middle;\n",
       "    }\n",
       "\n",
       "    .dataframe tbody tr th {\n",
       "        vertical-align: top;\n",
       "    }\n",
       "\n",
       "    .dataframe thead th {\n",
       "        text-align: right;\n",
       "    }\n",
       "</style>\n",
       "<table border=\"1\" class=\"dataframe\">\n",
       "  <thead>\n",
       "    <tr style=\"text-align: right;\">\n",
       "      <th></th>\n",
       "      <th>Date</th>\n",
       "      <th>Price</th>\n",
       "      <th>Open</th>\n",
       "      <th>High</th>\n",
       "      <th>Low</th>\n",
       "      <th>Vol.</th>\n",
       "      <th>Change %</th>\n",
       "    </tr>\n",
       "  </thead>\n",
       "  <tbody>\n",
       "    <tr>\n",
       "      <th>0</th>\n",
       "      <td>Jun 25, 2022</td>\n",
       "      <td>21,489.9</td>\n",
       "      <td>21,226.9</td>\n",
       "      <td>21,553.4</td>\n",
       "      <td>20,917.5</td>\n",
       "      <td>66.63K</td>\n",
       "      <td>1.24%</td>\n",
       "    </tr>\n",
       "    <tr>\n",
       "      <th>1</th>\n",
       "      <td>Jun 24, 2022</td>\n",
       "      <td>21,226.9</td>\n",
       "      <td>21,100.9</td>\n",
       "      <td>21,488.7</td>\n",
       "      <td>20,743.9</td>\n",
       "      <td>104.56K</td>\n",
       "      <td>0.60%</td>\n",
       "    </tr>\n",
       "    <tr>\n",
       "      <th>2</th>\n",
       "      <td>Jun 23, 2022</td>\n",
       "      <td>21,100.7</td>\n",
       "      <td>19,967.3</td>\n",
       "      <td>21,189.8</td>\n",
       "      <td>19,907.5</td>\n",
       "      <td>110.70K</td>\n",
       "      <td>5.68%</td>\n",
       "    </tr>\n",
       "    <tr>\n",
       "      <th>3</th>\n",
       "      <td>Jun 22, 2022</td>\n",
       "      <td>19,965.8</td>\n",
       "      <td>20,720.2</td>\n",
       "      <td>20,864.3</td>\n",
       "      <td>19,780.2</td>\n",
       "      <td>125.94K</td>\n",
       "      <td>-3.64%</td>\n",
       "    </tr>\n",
       "    <tr>\n",
       "      <th>4</th>\n",
       "      <td>Jun 21, 2022</td>\n",
       "      <td>20,720.4</td>\n",
       "      <td>20,571.6</td>\n",
       "      <td>21,689.3</td>\n",
       "      <td>20,371.7</td>\n",
       "      <td>136.32K</td>\n",
       "      <td>0.72%</td>\n",
       "    </tr>\n",
       "    <tr>\n",
       "      <th>5</th>\n",
       "      <td>Jun 20, 2022</td>\n",
       "      <td>20,572.3</td>\n",
       "      <td>20,576.9</td>\n",
       "      <td>20,996.8</td>\n",
       "      <td>19,658.8</td>\n",
       "      <td>140.60K</td>\n",
       "      <td>-0.02%</td>\n",
       "    </tr>\n",
       "    <tr>\n",
       "      <th>6</th>\n",
       "      <td>Jun 19, 2022</td>\n",
       "      <td>20,577.2</td>\n",
       "      <td>18,983.4</td>\n",
       "      <td>20,763.5</td>\n",
       "      <td>17,983.7</td>\n",
       "      <td>169.39K</td>\n",
       "      <td>8.38%</td>\n",
       "    </tr>\n",
       "    <tr>\n",
       "      <th>7</th>\n",
       "      <td>Jun 18, 2022</td>\n",
       "      <td>18,986.5</td>\n",
       "      <td>20,446.4</td>\n",
       "      <td>20,744.7</td>\n",
       "      <td>17,630.5</td>\n",
       "      <td>267.25K</td>\n",
       "      <td>-7.13%</td>\n",
       "    </tr>\n",
       "    <tr>\n",
       "      <th>8</th>\n",
       "      <td>Jun 17, 2022</td>\n",
       "      <td>20,444.6</td>\n",
       "      <td>20,391.3</td>\n",
       "      <td>21,315.4</td>\n",
       "      <td>20,244.1</td>\n",
       "      <td>136.27K</td>\n",
       "      <td>0.28%</td>\n",
       "    </tr>\n",
       "    <tr>\n",
       "      <th>9</th>\n",
       "      <td>Jun 16, 2022</td>\n",
       "      <td>20,386.6</td>\n",
       "      <td>22,577.9</td>\n",
       "      <td>22,942.1</td>\n",
       "      <td>20,231.1</td>\n",
       "      <td>144.00K</td>\n",
       "      <td>-9.71%</td>\n",
       "    </tr>\n",
       "  </tbody>\n",
       "</table>\n",
       "</div>"
      ],
      "text/plain": [
       "           Date     Price      Open      High       Low     Vol. Change %\n",
       "0  Jun 25, 2022  21,489.9  21,226.9  21,553.4  20,917.5   66.63K    1.24%\n",
       "1  Jun 24, 2022  21,226.9  21,100.9  21,488.7  20,743.9  104.56K    0.60%\n",
       "2  Jun 23, 2022  21,100.7  19,967.3  21,189.8  19,907.5  110.70K    5.68%\n",
       "3  Jun 22, 2022  19,965.8  20,720.2  20,864.3  19,780.2  125.94K   -3.64%\n",
       "4  Jun 21, 2022  20,720.4  20,571.6  21,689.3  20,371.7  136.32K    0.72%\n",
       "5  Jun 20, 2022  20,572.3  20,576.9  20,996.8  19,658.8  140.60K   -0.02%\n",
       "6  Jun 19, 2022  20,577.2  18,983.4  20,763.5  17,983.7  169.39K    8.38%\n",
       "7  Jun 18, 2022  18,986.5  20,446.4  20,744.7  17,630.5  267.25K   -7.13%\n",
       "8  Jun 17, 2022  20,444.6  20,391.3  21,315.4  20,244.1  136.27K    0.28%\n",
       "9  Jun 16, 2022  20,386.6  22,577.9  22,942.1  20,231.1  144.00K   -9.71%"
      ]
     },
     "execution_count": 2,
     "metadata": {},
     "output_type": "execute_result"
    }
   ],
   "source": [
    "# 2022년 6월 30일 00:00 (한국시간 기준) 비트코인의 가격 Chapter11.html\n",
    "# ▶ Data read\n",
    "df = pd.read_csv('C:\\\\Users\\\\hansl\\\\OneDrive\\\\바탕 화면\\\\주가예측\\\\Bitcoin.csv')\n",
    "df.head(10)"
   ]
  },
  {
   "cell_type": "code",
   "execution_count": 3,
   "id": "5e8595c5",
   "metadata": {},
   "outputs": [
    {
     "name": "stdout",
     "output_type": "stream",
     "text": [
      "df (731, 7)\n"
     ]
    }
   ],
   "source": [
    "# ▶ Data 형태 확인\n",
    "print('df', df.shape)"
   ]
  },
  {
   "cell_type": "code",
   "execution_count": 4,
   "id": "bfab1484",
   "metadata": {},
   "outputs": [
    {
     "name": "stdout",
     "output_type": "stream",
     "text": [
      "<class 'pandas.core.frame.DataFrame'>\n",
      "RangeIndex: 731 entries, 0 to 730\n",
      "Data columns (total 7 columns):\n",
      " #   Column    Non-Null Count  Dtype \n",
      "---  ------    --------------  ----- \n",
      " 0   Date      731 non-null    object\n",
      " 1   Price     731 non-null    object\n",
      " 2   Open      731 non-null    object\n",
      " 3   High      731 non-null    object\n",
      " 4   Low       731 non-null    object\n",
      " 5   Vol.      731 non-null    object\n",
      " 6   Change %  731 non-null    object\n",
      "dtypes: object(7)\n",
      "memory usage: 40.1+ KB\n"
     ]
    }
   ],
   "source": [
    "# ▶ Data type 확인\n",
    "df.info()"
   ]
  },
  {
   "cell_type": "code",
   "execution_count": 5,
   "id": "034a2370",
   "metadata": {},
   "outputs": [
    {
     "name": "stdout",
     "output_type": "stream",
     "text": [
      "Date        0\n",
      "Price       0\n",
      "Open        0\n",
      "High        0\n",
      "Low         0\n",
      "Vol.        0\n",
      "Change %    0\n",
      "dtype: int64\n"
     ]
    }
   ],
   "source": [
    "# ▶ Null 값 확인\n",
    "print(df.isnull().sum())"
   ]
  },
  {
   "cell_type": "code",
   "execution_count": 6,
   "id": "f51220de",
   "metadata": {},
   "outputs": [],
   "source": [
    "df.drop(['Open','High', 'Low', 'Vol.', 'Change %'], axis=1, inplace=True)"
   ]
  },
  {
   "cell_type": "code",
   "execution_count": 7,
   "id": "0bbde3a1",
   "metadata": {},
   "outputs": [
    {
     "data": {
      "text/html": [
       "<div>\n",
       "<style scoped>\n",
       "    .dataframe tbody tr th:only-of-type {\n",
       "        vertical-align: middle;\n",
       "    }\n",
       "\n",
       "    .dataframe tbody tr th {\n",
       "        vertical-align: top;\n",
       "    }\n",
       "\n",
       "    .dataframe thead th {\n",
       "        text-align: right;\n",
       "    }\n",
       "</style>\n",
       "<table border=\"1\" class=\"dataframe\">\n",
       "  <thead>\n",
       "    <tr style=\"text-align: right;\">\n",
       "      <th></th>\n",
       "      <th>Date</th>\n",
       "      <th>Price</th>\n",
       "    </tr>\n",
       "  </thead>\n",
       "  <tbody>\n",
       "    <tr>\n",
       "      <th>0</th>\n",
       "      <td>Jun 25, 2022</td>\n",
       "      <td>21,489.9</td>\n",
       "    </tr>\n",
       "    <tr>\n",
       "      <th>1</th>\n",
       "      <td>Jun 24, 2022</td>\n",
       "      <td>21,226.9</td>\n",
       "    </tr>\n",
       "    <tr>\n",
       "      <th>2</th>\n",
       "      <td>Jun 23, 2022</td>\n",
       "      <td>21,100.7</td>\n",
       "    </tr>\n",
       "    <tr>\n",
       "      <th>3</th>\n",
       "      <td>Jun 22, 2022</td>\n",
       "      <td>19,965.8</td>\n",
       "    </tr>\n",
       "    <tr>\n",
       "      <th>4</th>\n",
       "      <td>Jun 21, 2022</td>\n",
       "      <td>20,720.4</td>\n",
       "    </tr>\n",
       "    <tr>\n",
       "      <th>...</th>\n",
       "      <td>...</td>\n",
       "      <td>...</td>\n",
       "    </tr>\n",
       "    <tr>\n",
       "      <th>726</th>\n",
       "      <td>Jun 29, 2020</td>\n",
       "      <td>9,185.4</td>\n",
       "    </tr>\n",
       "    <tr>\n",
       "      <th>727</th>\n",
       "      <td>Jun 28, 2020</td>\n",
       "      <td>9,124.0</td>\n",
       "    </tr>\n",
       "    <tr>\n",
       "      <th>728</th>\n",
       "      <td>Jun 27, 2020</td>\n",
       "      <td>9,008.3</td>\n",
       "    </tr>\n",
       "    <tr>\n",
       "      <th>729</th>\n",
       "      <td>Jun 26, 2020</td>\n",
       "      <td>9,160.0</td>\n",
       "    </tr>\n",
       "    <tr>\n",
       "      <th>730</th>\n",
       "      <td>Jun 25, 2020</td>\n",
       "      <td>9,247.5</td>\n",
       "    </tr>\n",
       "  </tbody>\n",
       "</table>\n",
       "<p>731 rows × 2 columns</p>\n",
       "</div>"
      ],
      "text/plain": [
       "             Date     Price\n",
       "0    Jun 25, 2022  21,489.9\n",
       "1    Jun 24, 2022  21,226.9\n",
       "2    Jun 23, 2022  21,100.7\n",
       "3    Jun 22, 2022  19,965.8\n",
       "4    Jun 21, 2022  20,720.4\n",
       "..            ...       ...\n",
       "726  Jun 29, 2020   9,185.4\n",
       "727  Jun 28, 2020   9,124.0\n",
       "728  Jun 27, 2020   9,008.3\n",
       "729  Jun 26, 2020   9,160.0\n",
       "730  Jun 25, 2020   9,247.5\n",
       "\n",
       "[731 rows x 2 columns]"
      ]
     },
     "execution_count": 7,
     "metadata": {},
     "output_type": "execute_result"
    }
   ],
   "source": [
    "df"
   ]
  },
  {
   "cell_type": "code",
   "execution_count": 8,
   "id": "f3ab25c7",
   "metadata": {},
   "outputs": [],
   "source": [
    "# ▶ 시간 데이터 형변환\n",
    "import datetime\n",
    "# df['DateTime'] = pd.to_datetime(df['DateTime'])\n",
    "df['Date'] = pd.to_datetime(df['Date'])"
   ]
  },
  {
   "cell_type": "code",
   "execution_count": 9,
   "id": "d346e88f",
   "metadata": {},
   "outputs": [
    {
     "data": {
      "text/plain": [
       "(Timestamp('2020-06-25 00:00:00'), Timestamp('2022-06-25 00:00:00'))"
      ]
     },
     "execution_count": 9,
     "metadata": {},
     "output_type": "execute_result"
    }
   ],
   "source": [
    "# ▶  2년치에 Data 확인\n",
    "df['Date'].min(), df['Date'].max()"
   ]
  },
  {
   "cell_type": "code",
   "execution_count": 10,
   "id": "03a29b9d",
   "metadata": {},
   "outputs": [],
   "source": [
    "#파이썬에서 datatype : object를 float64로 변환\n",
    "import numpy as np\n",
    "df['Price'] = df['Price'].str.replace(',','').astype(np.float64)"
   ]
  },
  {
   "cell_type": "code",
   "execution_count": 11,
   "id": "854f0293",
   "metadata": {},
   "outputs": [
    {
     "name": "stdout",
     "output_type": "stream",
     "text": [
      "<class 'pandas.core.frame.DataFrame'>\n",
      "RangeIndex: 731 entries, 0 to 730\n",
      "Data columns (total 2 columns):\n",
      " #   Column  Non-Null Count  Dtype         \n",
      "---  ------  --------------  -----         \n",
      " 0   Date    731 non-null    datetime64[ns]\n",
      " 1   Price   731 non-null    float64       \n",
      "dtypes: datetime64[ns](1), float64(1)\n",
      "memory usage: 11.5 KB\n"
     ]
    }
   ],
   "source": [
    "df.info()"
   ]
  },
  {
   "cell_type": "markdown",
   "id": "d1ec9b05",
   "metadata": {},
   "source": [
    "from collections import Counter as cc\n",
    "cnt = cc(df['Change %'])\n",
    "cnt.most_common()[:770]"
   ]
  },
  {
   "cell_type": "markdown",
   "id": "352604ef",
   "metadata": {},
   "source": [
    "df['Vol.'] = df['Vol.'].str.replace('K','','M','').astype(np.float64)"
   ]
  },
  {
   "cell_type": "markdown",
   "id": "6a8d3e81",
   "metadata": {},
   "source": [
    "그리고 이번에는 시계열 정보를 데이터 프레임의 index로 설정한 것이다. to_datetime()을 사용하여 day피처를 시계열 피처로 변환 시켜준다."
   ]
  },
  {
   "cell_type": "code",
   "execution_count": 12,
   "id": "69b2f7cb",
   "metadata": {},
   "outputs": [],
   "source": [
    "df['Date'] = pd.to_datetime(df['Date'])"
   ]
  },
  {
   "cell_type": "code",
   "execution_count": 13,
   "id": "b37c5914",
   "metadata": {},
   "outputs": [
    {
     "data": {
      "text/html": [
       "<div>\n",
       "<style scoped>\n",
       "    .dataframe tbody tr th:only-of-type {\n",
       "        vertical-align: middle;\n",
       "    }\n",
       "\n",
       "    .dataframe tbody tr th {\n",
       "        vertical-align: top;\n",
       "    }\n",
       "\n",
       "    .dataframe thead th {\n",
       "        text-align: right;\n",
       "    }\n",
       "</style>\n",
       "<table border=\"1\" class=\"dataframe\">\n",
       "  <thead>\n",
       "    <tr style=\"text-align: right;\">\n",
       "      <th></th>\n",
       "      <th>Price</th>\n",
       "    </tr>\n",
       "    <tr>\n",
       "      <th>Date</th>\n",
       "      <th></th>\n",
       "    </tr>\n",
       "  </thead>\n",
       "  <tbody>\n",
       "    <tr>\n",
       "      <th>2022-06-25</th>\n",
       "      <td>21489.9</td>\n",
       "    </tr>\n",
       "    <tr>\n",
       "      <th>2022-06-24</th>\n",
       "      <td>21226.9</td>\n",
       "    </tr>\n",
       "    <tr>\n",
       "      <th>2022-06-23</th>\n",
       "      <td>21100.7</td>\n",
       "    </tr>\n",
       "    <tr>\n",
       "      <th>2022-06-22</th>\n",
       "      <td>19965.8</td>\n",
       "    </tr>\n",
       "    <tr>\n",
       "      <th>2022-06-21</th>\n",
       "      <td>20720.4</td>\n",
       "    </tr>\n",
       "    <tr>\n",
       "      <th>...</th>\n",
       "      <td>...</td>\n",
       "    </tr>\n",
       "    <tr>\n",
       "      <th>2020-06-29</th>\n",
       "      <td>9185.4</td>\n",
       "    </tr>\n",
       "    <tr>\n",
       "      <th>2020-06-28</th>\n",
       "      <td>9124.0</td>\n",
       "    </tr>\n",
       "    <tr>\n",
       "      <th>2020-06-27</th>\n",
       "      <td>9008.3</td>\n",
       "    </tr>\n",
       "    <tr>\n",
       "      <th>2020-06-26</th>\n",
       "      <td>9160.0</td>\n",
       "    </tr>\n",
       "    <tr>\n",
       "      <th>2020-06-25</th>\n",
       "      <td>9247.5</td>\n",
       "    </tr>\n",
       "  </tbody>\n",
       "</table>\n",
       "<p>731 rows × 1 columns</p>\n",
       "</div>"
      ],
      "text/plain": [
       "              Price\n",
       "Date               \n",
       "2022-06-25  21489.9\n",
       "2022-06-24  21226.9\n",
       "2022-06-23  21100.7\n",
       "2022-06-22  19965.8\n",
       "2022-06-21  20720.4\n",
       "...             ...\n",
       "2020-06-29   9185.4\n",
       "2020-06-28   9124.0\n",
       "2020-06-27   9008.3\n",
       "2020-06-26   9160.0\n",
       "2020-06-25   9247.5\n",
       "\n",
       "[731 rows x 1 columns]"
      ]
     },
     "execution_count": 13,
     "metadata": {},
     "output_type": "execute_result"
    }
   ],
   "source": [
    "df['Date'].index = df['Date']\n",
    "df.set_index('Date', inplace=True)\n",
    "df"
   ]
  },
  {
   "cell_type": "code",
   "execution_count": 14,
   "id": "83f28ac3",
   "metadata": {},
   "outputs": [],
   "source": [
    "df.sort_values(by='Date', ascending= True, inplace=True)"
   ]
  },
  {
   "cell_type": "code",
   "execution_count": 15,
   "id": "dc79188c",
   "metadata": {},
   "outputs": [
    {
     "data": {
      "text/html": [
       "<div>\n",
       "<style scoped>\n",
       "    .dataframe tbody tr th:only-of-type {\n",
       "        vertical-align: middle;\n",
       "    }\n",
       "\n",
       "    .dataframe tbody tr th {\n",
       "        vertical-align: top;\n",
       "    }\n",
       "\n",
       "    .dataframe thead th {\n",
       "        text-align: right;\n",
       "    }\n",
       "</style>\n",
       "<table border=\"1\" class=\"dataframe\">\n",
       "  <thead>\n",
       "    <tr style=\"text-align: right;\">\n",
       "      <th></th>\n",
       "      <th>Price</th>\n",
       "    </tr>\n",
       "    <tr>\n",
       "      <th>Date</th>\n",
       "      <th></th>\n",
       "    </tr>\n",
       "  </thead>\n",
       "  <tbody>\n",
       "    <tr>\n",
       "      <th>2020-06-25</th>\n",
       "      <td>9247.5</td>\n",
       "    </tr>\n",
       "    <tr>\n",
       "      <th>2020-06-26</th>\n",
       "      <td>9160.0</td>\n",
       "    </tr>\n",
       "    <tr>\n",
       "      <th>2020-06-27</th>\n",
       "      <td>9008.3</td>\n",
       "    </tr>\n",
       "    <tr>\n",
       "      <th>2020-06-28</th>\n",
       "      <td>9124.0</td>\n",
       "    </tr>\n",
       "    <tr>\n",
       "      <th>2020-06-29</th>\n",
       "      <td>9185.4</td>\n",
       "    </tr>\n",
       "    <tr>\n",
       "      <th>...</th>\n",
       "      <td>...</td>\n",
       "    </tr>\n",
       "    <tr>\n",
       "      <th>2022-06-21</th>\n",
       "      <td>20720.4</td>\n",
       "    </tr>\n",
       "    <tr>\n",
       "      <th>2022-06-22</th>\n",
       "      <td>19965.8</td>\n",
       "    </tr>\n",
       "    <tr>\n",
       "      <th>2022-06-23</th>\n",
       "      <td>21100.7</td>\n",
       "    </tr>\n",
       "    <tr>\n",
       "      <th>2022-06-24</th>\n",
       "      <td>21226.9</td>\n",
       "    </tr>\n",
       "    <tr>\n",
       "      <th>2022-06-25</th>\n",
       "      <td>21489.9</td>\n",
       "    </tr>\n",
       "  </tbody>\n",
       "</table>\n",
       "<p>731 rows × 1 columns</p>\n",
       "</div>"
      ],
      "text/plain": [
       "              Price\n",
       "Date               \n",
       "2020-06-25   9247.5\n",
       "2020-06-26   9160.0\n",
       "2020-06-27   9008.3\n",
       "2020-06-28   9124.0\n",
       "2020-06-29   9185.4\n",
       "...             ...\n",
       "2022-06-21  20720.4\n",
       "2022-06-22  19965.8\n",
       "2022-06-23  21100.7\n",
       "2022-06-24  21226.9\n",
       "2022-06-25  21489.9\n",
       "\n",
       "[731 rows x 1 columns]"
      ]
     },
     "execution_count": 15,
     "metadata": {},
     "output_type": "execute_result"
    }
   ],
   "source": [
    "df"
   ]
  },
  {
   "cell_type": "code",
   "execution_count": 16,
   "id": "7d240cca",
   "metadata": {},
   "outputs": [
    {
     "data": {
      "image/png": "[encoded data removed]",
      "text/plain": [
       "<Figure size 432x288 with 1 Axes>"
      ]
     },
     "metadata": {
      "needs_background": "light"
     },
     "output_type": "display_data"
    }
   ],
   "source": [
    "df.plot()\n",
    "plt.show()"
   ]
  },
  {
   "cell_type": "markdown",
   "id": "125598df",
   "metadata": {},
   "source": [
    "Step 2 예측: 파이썬 라이브러리를 활용한 시세 예측\n",
    "ARIMA\n",
    "우선 사용할 시계열 예측 분석은 ARIMA 분석 방법이다. ARIMA기법은 전통적인 시계열 예측 방법으로 크게 두 가지 개념을 포함하고 있다. 첫번째는 AR(Autoregression) 모델로 자기 자신의 과거를 정보로 사용하는 개념이다. 이는 ’현재의 상태는 이전의 상태를 참고해서 계산된다’라는 아이디어를 기본 전제로 한다. 두번째 개념은 MA(Moving Average)모델로 ’이번 항에서의 오차를 이용하여 현재 항의 상태를 추론하자’라는 방법이다. 그리고 이 둘을 합친것을 ARMA 모델이라고 하며, 조금 더 나아간 ARIMA(Autoregressice Integrated Moving Average)모델은 ARMA 모델에 추세 변동의 경향성 까지 반영한 방법이다.\n",
    "파이썬에서는 statsmodel 모듈로 ARIMA 분석을 수행할 수 있다. 다음 코드는 ARIMA 분석의 실행 과정이다. ARIMA 클래스에 order=(2,1,2)라고 입력되어진 파라미터는 ’AR이 몇번째 과거까지를 바라보는지에 대한 파라미터 (2), 차분(Defference)에 대한 파라미터(1), MA가 몇 번째 과거까지를 바라보는지에 대한 파라미터(2)’를 의미한다.\n",
    "차분이란 현재 상태의 변수에서 바로 전 상태의 변수를 빼주는 것을 의미하며, 시계열 데이터의 불규칙성을 조금이나마 보정해주는 역할을 한다. 또한 앞서 말한 ARIMA 모델의 경향성을 의미한다.\n",
    "이제 아래의 실행 결과를 분석해보자. 실행 결과의 표를 살펴보면 상수항을 제외한 모든 계수의 p-value( P>|z| )가 0.05이하로 유의미한 것으로 나타난다. 이것은 AR과 MA모두 2로 설정하는 것이 꽤나 의미 있는 분석 결과를 도출한다는 것을 말한다."
   ]
  },
  {
   "cell_type": "code",
   "execution_count": 17,
   "id": "ae6013d5",
   "metadata": {},
   "outputs": [],
   "source": [
    "from statsmodels.tsa.arima_model import ARIMA\n",
    "import statsmodels.api as sm"
   ]
  },
  {
   "cell_type": "code",
   "execution_count": 18,
   "id": "61c12cc7",
   "metadata": {},
   "outputs": [
    {
     "name": "stderr",
     "output_type": "stream",
     "text": [
      "C:\\ProgramData\\Anaconda3\\lib\\site-packages\\statsmodels\\tsa\\arima_model.py:472: FutureWarning: \n",
      "statsmodels.tsa.arima_model.ARMA and statsmodels.tsa.arima_model.ARIMA have\n",
      "been deprecated in favor of statsmodels.tsa.arima.model.ARIMA (note the .\n",
      "between arima and model) and\n",
      "statsmodels.tsa.SARIMAX. These will be removed after the 0.12 release.\n",
      "\n",
      "statsmodels.tsa.arima.model.ARIMA makes use of the statespace framework and\n",
      "is both well tested and maintained.\n",
      "\n",
      "To silence this warning and continue using ARMA and ARIMA until they are\n",
      "removed, use:\n",
      "\n",
      "import warnings\n",
      "warnings.filterwarnings('ignore', 'statsmodels.tsa.arima_model.ARMA',\n",
      "                        FutureWarning)\n",
      "warnings.filterwarnings('ignore', 'statsmodels.tsa.arima_model.ARIMA',\n",
      "                        FutureWarning)\n",
      "\n",
      "  warnings.warn(ARIMA_DEPRECATION_WARN, FutureWarning)\n"
     ]
    }
   ],
   "source": [
    "# (AR = 2, 차분 =1, MA=2) 파라미터로 ARIMA 모델을 학습한다.\n",
    "model = ARIMA(df.Price.values, order = (2,1,2))"
   ]
  },
  {
   "cell_type": "code",
   "execution_count": 19,
   "id": "e1087fae",
   "metadata": {},
   "outputs": [],
   "source": [
    "model_fit = model.fit(trend = 'c', full_output = True, disp = True)"
   ]
  },
  {
   "cell_type": "code",
   "execution_count": 20,
   "id": "f0db72fa",
   "metadata": {},
   "outputs": [
    {
     "name": "stdout",
     "output_type": "stream",
     "text": [
      "                             ARIMA Model Results                              \n",
      "==============================================================================\n",
      "Dep. Variable:                    D.y   No. Observations:                  730\n",
      "Model:                 ARIMA(2, 1, 2)   Log Likelihood               -6383.154\n",
      "Method:                       css-mle   S.D. of innovations           1517.784\n",
      "Date:                Tue, 28 Jun 2022   AIC                          12778.307\n",
      "Time:                        00:11:02   BIC                          12805.866\n",
      "Sample:                             1   HQIC                         12788.940\n",
      "                                                                              \n",
      "==============================================================================\n",
      "                 coef    std err          z      P>|z|      [0.025      0.975]\n",
      "------------------------------------------------------------------------------\n",
      "const         16.7708     54.890      0.306      0.760     -90.812     124.354\n",
      "ar.L1.D.y      0.8153      0.063     12.846      0.000       0.691       0.940\n",
      "ar.L2.D.y     -0.9134      0.152     -6.016      0.000      -1.211      -0.616\n",
      "ma.L1.D.y     -0.8580      0.090     -9.534      0.000      -1.034      -0.682\n",
      "ma.L2.D.y      0.9310      0.110      8.463      0.000       0.715       1.147\n",
      "                                    Roots                                    \n",
      "=============================================================================\n",
      "                  Real          Imaginary           Modulus         Frequency\n",
      "-----------------------------------------------------------------------------\n",
      "AR.1            0.4463           -0.9464j            1.0463           -0.1799\n",
      "AR.2            0.4463           +0.9464j            1.0463            0.1799\n",
      "MA.1            0.4608           -0.9283j            1.0364           -0.1767\n",
      "MA.2            0.4608           +0.9283j            1.0364            0.1767\n",
      "-----------------------------------------------------------------------------\n"
     ]
    }
   ],
   "source": [
    "print(model_fit.summary())"
   ]
  },
  {
   "cell_type": "markdown",
   "id": "97c8a2e8",
   "metadata": {},
   "source": [
    "잠깐: ARIMA 분석의 파라미터\n",
    "위 예제의 분석 결과와는 별개로 order 파라미터 p, d, q는 일반적인 가이드라인이 존재한다. 보통은 p와 q의 합이 2 미만인 경우, 혹은 p와 q의 곱이 0을 포함한 짝수인 경우가 좋은 파라미터의 조합이라고 알려져 있다."
   ]
  },
  {
   "cell_type": "markdown",
   "id": "fa7efc8a",
   "metadata": {},
   "source": [
    "다음으로 ARIMA 모델의 학습 결과를 알아보자. 아래의 실행 결과 중 첫 번째 그래프는 학습한 모델에 학습 데이터셋을 넣었을 때의 시계열 예측 결과이다. plot_predic()함수를 사용해보자."
   ]
  },
  {
   "cell_type": "code",
   "execution_count": 21,
   "id": "30855741",
   "metadata": {},
   "outputs": [
    {
     "data": {
      "image/png": "[encoded data removed]",
      "text/plain": [
       "<Figure size 432x288 with 1 Axes>"
      ]
     },
     "metadata": {
      "needs_background": "light"
     },
     "output_type": "display_data"
    }
   ],
   "source": [
    "# 학습 데이터에 대한 예측 결과\n",
    "fig = model_fit.plot_predict()"
   ]
  },
  {
   "cell_type": "markdown",
   "id": "ebee77b2",
   "metadata": {},
   "source": [
    "두번째 그래프는 실제값과 예측값 사이의 오차 변동을 나타내는 그래프이다. 만약 이 그래프의 폭이 일정하다면 좋은 예측 모델을 학습시킨것이라고 생각할 수 있다."
   ]
  },
  {
   "cell_type": "code",
   "execution_count": 22,
   "id": "44fe442c",
   "metadata": {},
   "outputs": [
    {
     "data": {
      "text/plain": [
       "<AxesSubplot:>"
      ]
     },
     "execution_count": 22,
     "metadata": {},
     "output_type": "execute_result"
    },
    {
     "data": {
      "image/png": "[encoded data removed]",
      "text/plain": [
       "<Figure size 432x288 with 1 Axes>"
      ]
     },
     "metadata": {
      "needs_background": "light"
     },
     "output_type": "display_data"
    }
   ],
   "source": [
    "residuals = pd.DataFrame(model_fit.resid)\n",
    "residuals.plot()"
   ]
  },
  {
   "cell_type": "markdown",
   "id": "d355adce",
   "metadata": {},
   "source": [
    "이번에는 ARIMA 모델을 평가해보자. 모델을 평가하기 위해서는 테스트 전용 데이터가 필요한데, 이번에는 5일 동안의 미래를 테스트 데이터로 사용해보자. 불규칙적 시계열 예측의 경우에는 먼 미래를 예측하는 것의 큰 의미가 없기 때문에 ’앞으로 N일동안 어느정도로 상승/하락할 것이다’정도의 대략적인 경향 예측만을 수행하는 것이 일반적이기 때문이다. 모델의 평가 과정은 다음과 같다."
   ]
  },
  {
   "cell_type": "markdown",
   "id": "542ce54b",
   "metadata": {},
   "source": [
    "model_fit.forecast(steps = 5)로 향후 5일의 가격을 예측하요 pred_y로 정의 한다.\n",
    "bitcoin_df.iloc[361:]로 해주어 bitcoin_df의 마지막 5일을 test_y로 정의 한다.\n",
    "모델의 예측한 상한값, 하한값을 pred_y_upper, pred_y_lower로 정의 한다.\n",
    "정의한 모든 값을 비교하여 5일동안의 상승 경향 예측이 얼마나 맞는지 평가 해본다."
   ]
  },
  {
   "cell_type": "code",
   "execution_count": 23,
   "id": "71f5bebd",
   "metadata": {},
   "outputs": [
    {
     "data": {
      "text/html": [
       "<div>\n",
       "<style scoped>\n",
       "    .dataframe tbody tr th:only-of-type {\n",
       "        vertical-align: middle;\n",
       "    }\n",
       "\n",
       "    .dataframe tbody tr th {\n",
       "        vertical-align: top;\n",
       "    }\n",
       "\n",
       "    .dataframe thead th {\n",
       "        text-align: right;\n",
       "    }\n",
       "</style>\n",
       "<table border=\"1\" class=\"dataframe\">\n",
       "  <thead>\n",
       "    <tr style=\"text-align: right;\">\n",
       "      <th></th>\n",
       "      <th>Price</th>\n",
       "    </tr>\n",
       "    <tr>\n",
       "      <th>Date</th>\n",
       "      <th></th>\n",
       "    </tr>\n",
       "  </thead>\n",
       "  <tbody>\n",
       "  </tbody>\n",
       "</table>\n",
       "</div>"
      ],
      "text/plain": [
       "Empty DataFrame\n",
       "Columns: [Price]\n",
       "Index: []"
      ]
     },
     "execution_count": 23,
     "metadata": {},
     "output_type": "execute_result"
    }
   ],
   "source": [
    "forecast_data = model_fit.forecast(steps=5) \n",
    "\n",
    "test_df = df[731:]\n",
    "test_df\n",
    "# 데스트 데이터 셋 불러오기\n",
    "# test_file_path = \"C:\\\\Users\\\\hansl\\\\OneDrive\\\\바탕 화면\\\\주가예측\\\\test.csv\"\n",
    "# test_df = pd.read_csv(test_file_path, names = ['Date','Price'])"
   ]
  },
  {
   "cell_type": "code",
   "execution_count": 24,
   "id": "aa09d469",
   "metadata": {},
   "outputs": [],
   "source": [
    "# 마지막 5일의 예측 데이터 \n",
    "pred_y = forecast_data[0].tolist()\n",
    "\n",
    "# 실제 5일의 데이터 \n",
    "test_y = test_df.Price.values\n",
    "\n",
    "# 마지막 5일의 예측 데이터 최소값\n",
    "pred_y_lower = []\n",
    "# 마지막 5일의 예측 데이터 최대값\n",
    "pred_y_upper = []\n",
    "\n",
    "for lower_upper in forecast_data[2]:\n",
    "    lower = lower_upper[0]\n",
    "    upper = lower_upper[1]\n",
    "    pred_y_lower.append(lower)\n",
    "    pred_y_upper.append(upper)"
   ]
  },
  {
   "cell_type": "markdown",
   "id": "4113025c",
   "metadata": {},
   "source": [
    "그리고 다음 코드는 이를 그래프로 시각화 한 것이다. 파란색 그래프는 모델이 예상한 최고 가격, 즉 상한가의 그래프이다. 그리고 빨간색은 모델이 예측한 하한가 그래프이고, 초록색은 실제 5일간의 가격 그래프, 노란색은 모델이 예측한 가격 그래프를 나타낸 것이다."
   ]
  },
  {
   "cell_type": "code",
   "execution_count": 25,
   "id": "0d07221d",
   "metadata": {},
   "outputs": [
    {
     "data": {
      "text/plain": [
       "[<matplotlib.lines.Line2D at 0x1e71a5dc5b0>]"
      ]
     },
     "execution_count": 25,
     "metadata": {},
     "output_type": "execute_result"
    },
    {
     "data": {
      "image/png": "[encoded data removed]",
      "text/plain": [
       "<Figure size 432x288 with 1 Axes>"
      ]
     },
     "metadata": {
      "needs_background": "light"
     },
     "output_type": "display_data"
    }
   ],
   "source": [
    "# 모델이 예측한 가격 그래프\n",
    "plt.plot(pred_y, color = 'gold')\n",
    "\n",
    "# 모델이 예측한 최저 가격 그래프\n",
    "plt.plot(pred_y_lower, color = 'red')\n",
    "\n",
    "# 모델이 예측한 최고 가격 그래프\n",
    "plt.plot(pred_y_upper, color = 'blue')\n",
    "\n",
    "# 실제 가격 그래프\n",
    "plt.plot(test_y, color = 'green')"
   ]
  },
  {
   "cell_type": "code",
   "execution_count": 26,
   "id": "fec022d7",
   "metadata": {},
   "outputs": [
    {
     "data": {
      "text/plain": [
       "[<matplotlib.lines.Line2D at 0x1e71a64f760>]"
      ]
     },
     "execution_count": 26,
     "metadata": {},
     "output_type": "execute_result"
    },
    {
     "data": {
      "image/png": "[encoded data removed]",
      "text/plain": [
       "<Figure size 432x288 with 1 Axes>"
      ]
     },
     "metadata": {
      "needs_background": "light"
     },
     "output_type": "display_data"
    }
   ],
   "source": [
    "# 상한가, 하한가를 제외한 그래프\n",
    "plt.plot(pred_y, color = 'gold')\n",
    "plt.plot(test_y, color = 'green')"
   ]
  },
  {
   "cell_type": "code",
   "execution_count": 27,
   "id": "86ff1c53",
   "metadata": {},
   "outputs": [
    {
     "data": {
      "image/png": "[encoded data removed]",
      "text/plain": [
       "<Figure size 432x288 with 1 Axes>"
      ]
     },
     "execution_count": 27,
     "metadata": {},
     "output_type": "execute_result"
    },
    {
     "data": {
      "image/png": "[encoded data removed]",
      "text/plain": [
       "<Figure size 432x288 with 1 Axes>"
      ]
     },
     "metadata": {
      "needs_background": "light"
     },
     "output_type": "display_data"
    }
   ],
   "source": [
    "model_fit.plot_predict()"
   ]
  },
  {
   "cell_type": "markdown",
   "id": "ab6bec4f",
   "metadata": {},
   "source": [
    "예측값과 실제 값을 그래프로 그려보니 거의 비슷하게 나오고 있습니다"
   ]
  },
  {
   "cell_type": "code",
   "execution_count": 28,
   "id": "f31a679a",
   "metadata": {},
   "outputs": [
    {
     "name": "stdout",
     "output_type": "stream",
     "text": [
      "(array([21538.71851173]), array([1517.78369929]), array([[18563.9171248 , 24513.51989865]]))\n"
     ]
    }
   ],
   "source": [
    "fore = model_fit.forecast(steps=1)\n",
    "print(fore)"
   ]
  },
  {
   "cell_type": "markdown",
   "id": "e1fc69bd",
   "metadata": {},
   "source": [
    "내일의 코스피 예측값을 보니\n",
    "\n",
    "6.26일의 주가가 21538.71로 나왔습니다\n",
    "\n",
    "범위는 18563.91부터 24513.51까지이고요\n",
    "\n",
    "범위의 상하 범위가 굉장히 크게 나타나서\n",
    "\n",
    "예측의 범위가 작아 보이지는 않는다"
   ]
  },
  {
   "cell_type": "code",
   "execution_count": 31,
   "id": "2f94deb8",
   "metadata": {},
   "outputs": [
    {
     "name": "stdout",
     "output_type": "stream",
     "text": [
      "(array([21538.71851173, 21462.66042326, 21374.47583699, 21390.46905721,\n",
      "       21502.47400574]), array([1517.78369929, 2101.09128265, 2539.72048679, 2931.80481068,\n",
      "       3302.17907753]), array([[18563.9171248 , 24513.51989865],\n",
      "       [17344.59718103, 25580.72366548],\n",
      "       [16396.71515209, 26352.2365219 ],\n",
      "       [15644.23721859, 27136.70089583],\n",
      "       [15030.32194327, 27974.62606821]]))\n",
      "6월 30일 비트코인의 가격 :  21502.47\n"
     ]
    }
   ],
   "source": [
    "fore = model_fit.forecast(steps=5)\n",
    "print(fore)\n",
    "print(\"6월 30일 비트코인의 가격 : \" , 21502.47)"
   ]
  },
  {
   "cell_type": "markdown",
   "id": "c5427338",
   "metadata": {},
   "source": [
    "Facebook Prophet\n",
    "이번에는 ARIMA보다 조금 더 정확한 트렌드 예측 분석을 제공하는 라이브러리 ’Facebook Prophet’을 사용해보자. Prophet은 Additive 모델이라는 모델링 방법에 기반한 시계열 예측모델로, 시계열 데이터의 트렌드성(연간/월간/일간)을 예측하는 것에 초점이 맞추어져 있다.\n",
    "\n",
    "잠깐: Additive 모델\n",
    "Additive 모델은 선형회귀 분석의 단점을 극복하기 위해 개량된 분석 방법의 하나이다. 시계열 분석 역시 회귀 분석의 한 갈래이기 때문에 회귀 분석의 단점을 가지고 있다. 하지만 회귀 분석의 단점을 극복하기 위해 이 모델은 각 피쳐마다 비선형적인 적합을 가능하게 하는 일련의 방법을 적용한다. 이는 다소 어렵기 때문에 자세한 사항은 다음을 참고 한다.\n",
    "\n",
    "https://peerj.com/preprints/3190/"
   ]
  },
  {
   "cell_type": "markdown",
   "id": "e4a87260",
   "metadata": {},
   "source": [
    "fbprophet 라이브러리를 사용하기 위해서는 데이터 프레임의 피쳐를 ’ds’와 ’y’로 변경해야 한다. 그리고 Prophet이라는 클래스를 선언한 뒤, fit() 함수로 모델을 학습시켜준다. 모델 생성에 포함되는 파라미터의 의미는 다음과 같다.\n",
    "\n",
    "sesonality_mode: 연간, 월간, 주간, 일간 등의 트렌드성을 반영하는 것을 의미하는 파라미터\n",
    "changepoint_prior_scale: 트렌드가 변경되는 문맥을 반영하는 파라미터. 수치가 높을수록 모델은 과적합에 가까워진다."
   ]
  }
 ],
 "metadata": {
  "kernelspec": {
   "display_name": "Python 3 (ipykernel)",
   "language": "python",
   "name": "python3"
  },
  "language_info": {
   "codemirror_mode": {
    "name": "ipython",
    "version": 3
   },
   "file_extension": ".py",
   "mimetype": "text/x-python",
   "name": "python",
   "nbconvert_exporter": "python",
   "pygments_lexer": "ipython3",
   "version": "3.9.7"
  }
 },
 "nbformat": 4,
 "nbformat_minor": 5
}
